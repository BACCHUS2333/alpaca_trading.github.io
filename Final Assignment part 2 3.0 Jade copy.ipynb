{
 "cells": [
  {
   "cell_type": "markdown",
   "id": "490ca2d8",
   "metadata": {},
   "source": [
    "<div style=\"text-align: center;\">\n",
    "    <span style=\"color: #000000; font-size: 30px; font-weight: bold; font-family: Arial;  margin: 50px; \">\n",
    "        Final Assignment Part Two\n",
    "    </span>\n",
    "</div>\n",
    "\n",
    "#### <centre>form an optimal portfolio and reblance it</centre>\n"
   ]
  },
  {
   "cell_type": "markdown",
   "id": "df7b2172",
   "metadata": {},
   "source": [
    "Choose a collection of assets. Using simulation, find the weights that will lead to the minimum variance portfolio. Make a python function that will purchase the correct amount of assets on Alpaca."
   ]
  },
  {
   "cell_type": "markdown",
   "id": "2d823455",
   "metadata": {},
   "source": [
    "## Step 0  import packages and set parameters"
   ]
  },
  {
   "cell_type": "code",
   "execution_count": 1,
   "id": "910c9bba",
   "metadata": {},
   "outputs": [],
   "source": [
    "pip install alpaca-trade-api"
   ]
  },
  {
   "cell_type": "code",
   "execution_count": 2,
   "id": "044bb0f7",
   "metadata": {},
   "outputs": [],
   "source": [
    "import yfinance as yf\n",
    "import numpy as np\n",
    "from scipy.optimize import minimize\n",
    "import requests\n",
    "import json\n",
    "import alpaca_trade_api as tradeapi"
   ]
  },
  {
   "cell_type": "markdown",
   "id": "a0e4b6f2",
   "metadata": {},
   "source": [
    "# Choose a collection of assets"
   ]
  },
  {
   "cell_type": "code",
   "execution_count": 19,
   "id": "2675060d",
   "metadata": {},
   "outputs": [],
   "source": [
    "tickers = ['SLB',  'OXY', 'BP',  'WMB',  'BKR', 'APA', 'HES']"
   ]
  },
  {
   "cell_type": "code",
   "execution_count": 18,
   "id": "30b1eb3c",
   "metadata": {},
   "outputs": [
    {
     "data": {
      "text/plain": [
       "6"
      ]
     },
     "execution_count": 18,
     "metadata": {},
     "output_type": "execute_result"
    }
   ],
   "source": [
    "np.sum(np.array([1,2,3]))"
   ]
  },
  {
   "cell_type": "markdown",
   "id": "6319d630",
   "metadata": {},
   "source": [
    "# Step 1 Get Optimal Weights\n"
   ]
  },
  {
   "cell_type": "code",
   "execution_count": 20,
   "id": "647b5d1f",
   "metadata": {},
   "outputs": [
    {
     "name": "stdout",
     "output_type": "stream",
     "text": [
      "[*********************100%%**********************]  7 of 7 completed\n"
     ]
    },
    {
     "name": "stderr",
     "output_type": "stream",
     "text": [
      "/Library/Frameworks/Python.framework/Versions/3.11/lib/python3.11/site-packages/scipy/optimize/_hessian_update_strategy.py:182: UserWarning: delta_grad == 0.0. Check if the approximated function is linear. If the function is linear better results can be obtained by defining the Hessian as zero instead of using quasi-Newton approximations.\n",
      "  warn('delta_grad == 0.0. Check if the approximated '\n"
     ]
    },
    {
     "name": "stdout",
     "output_type": "stream",
     "text": [
      "Optimal weights： [0.18095087 0.11210211 0.17463791 0.03602531 0.21230241 0.11132801\n",
      " 0.17265339]\n",
      "minimum variance： 0.00046714098736235643\n"
     ]
    }
   ],
   "source": [
    "# 获取股票数据\n",
    "data = yf.download(tickers, start='2000-01-01', end='2023-09-07')['Adj Close']\n",
    "\n",
    "# 计算每只股票的日收益率\n",
    "returns = data.pct_change().dropna()\n",
    "\n",
    "# 计算协方差矩阵\n",
    "cov_matrix = returns.cov()\n",
    "\n",
    "# 定义目标函数，最小化方差\n",
    "def objective(weights):\n",
    "    portfolio_variance = np.dot(weights.T, np.dot(cov_matrix, weights))\n",
    "    return portfolio_variance\n",
    "\n",
    "# 设置约束条件，这里假设权重之和为1\n",
    "constraints = ({'type': 'eq', 'fun': lambda weights: np.sum(weights) - 1})\n",
    "\n",
    "# 设置初始权重猜测值\n",
    "#一开始我是用的initial_weights = np.ones(len(tickers)) / len(tickers)\n",
    "initial_weights = np.random.rand(len(tickers))\n",
    "initial_weights /= initial_weights.sum() \n",
    "\n",
    "# 最小化目标函数，使用不同的优化方法\n",
    "result = minimize(objective, initial_weights, constraints=constraints, method='trust-constr')\n",
    "\n",
    "\n",
    "# 最优权重\n",
    "optimal_weights = result.x\n",
    "\n",
    "print(\"Optimal weights：\", optimal_weights)\n",
    "print(\"minimum variance：\", result.fun)\n"
   ]
  },
  {
   "cell_type": "markdown",
   "id": "82232231",
   "metadata": {},
   "source": [
    "# Step 2 Get Account Balance"
   ]
  },
  {
   "cell_type": "code",
   "execution_count": 21,
   "id": "352e313b",
   "metadata": {},
   "outputs": [],
   "source": [
    "#与羊驼关联\n",
    "API_KEY = \"PKOK1AECOYSVDXHMQ7ON\"\n",
    "SECRET_KEY = \"xeUuUHj4TuLJ95NaSSMbdKRWERyPGJofYbdoioki\"\n",
    "BASE_URL = \"https://paper-api.alpaca.markets\"\n",
    "ACCOUNT_URL = BASE_URL + \"/v2/account\"\n",
    "ORDERS_URL =  BASE_URL + \"/v2/orders\""
   ]
  },
  {
   "cell_type": "code",
   "execution_count": 22,
   "id": "4a67fab7",
   "metadata": {},
   "outputs": [],
   "source": [
    "r = requests.get(ACCOUNT_URL, headers = {'APCA-API-KEY-ID': API_KEY,\n",
    "                                         'APCA-API-SECRET-KEY':  SECRET_KEY})\n",
    "info = json.loads(r.content)\n",
    "accountval = float(info[\"cash\"])"
   ]
  },
  {
   "cell_type": "markdown",
   "id": "7a32479f",
   "metadata": {},
   "source": [
    "# Step 3 Get number of Shares"
   ]
  },
  {
   "cell_type": "code",
   "execution_count": 29,
   "id": "11f8e068",
   "metadata": {},
   "outputs": [
    {
     "name": "stdout",
     "output_type": "stream",
     "text": [
      "The optimal number of stock SLB : -1644\n",
      "The optimal number of stock OXY : -950\n",
      "The optimal number of stock BP : -2493\n",
      "The optimal number of stock WMB : -598\n",
      "The optimal number of stock BKR : -3162\n",
      "The optimal number of stock APA : -1382\n",
      "The optimal number of stock HES : -608\n"
     ]
    }
   ],
   "source": [
    "# 计算每个股票的股票数量\n",
    "shares = []\n",
    "prices = []\n",
    "for i, symbol in enumerate(tickers):\n",
    "    weight = optimal_weights[i]\n",
    "    price = data[symbol][-1]  # 获取最后一个交易日的股价\n",
    "    qty = (weight * accountval) / price\n",
    "    qty = int(qty)  # 取整数部分\n",
    "    shares.append(qty)\n",
    "\n",
    "    prices.append(price)\n",
    "\n",
    "\n",
    "\n",
    "\n",
    "for i, symbol in enumerate(tickers):\n",
    "    print(f\"The optimal number of stock {symbol} : {shares[i]}\")"
   ]
  },
  {
   "cell_type": "code",
   "execution_count": 31,
   "id": "b93b721c",
   "metadata": {},
   "outputs": [
    {
     "data": {
      "text/plain": [
       "-554268.3919754028"
      ]
     },
     "execution_count": 31,
     "metadata": {},
     "output_type": "execute_result"
    }
   ],
   "source": [
    "np.sum(np.array(shares)*np.array(prices))\n",
    "\n",
    "\n"
   ]
  },
  {
   "cell_type": "code",
   "execution_count": null,
   "id": "a98ada95",
   "metadata": {},
   "outputs": [
    {
     "data": {
      "text/plain": [
       "[-963, -732, -599, -2183, -3398, -2904, -605]"
      ]
     },
     "execution_count": 10,
     "metadata": {},
     "output_type": "execute_result"
    },
    {
     "ename": "KeyboardInterrupt",
     "evalue": "",
     "output_type": "error",
     "traceback": [
      "\u001b[0;31m---------------------------------------------------------------------------\u001b[0m",
      "\u001b[0;31mKeyboardInterrupt\u001b[0m                         Traceback (most recent call last)",
      "\u001b[1;32m/Users/mac/Desktop/ucla_python_lab/Final Assignment part 2 3.0 Jade copy.ipynb Cell 13\u001b[0m line \u001b[0;36m1\n\u001b[0;32m----> <a href='vscode-notebook-cell:/Users/mac/Desktop/ucla_python_lab/Final%20Assignment%20part%202%203.0%20Jade%20copy.ipynb#X25sZmlsZQ%3D%3D?line=0'>1</a>\u001b[0m \u001b[39msum\u001b[39m \u001b[39m=\u001b[39m np\u001b[39m.\u001b[39marray(shares)\u001b[39m*\u001b[39mnp\u001b[39m.\u001b[39;49marray(prices)\n\u001b[1;32m      <a href='vscode-notebook-cell:/Users/mac/Desktop/ucla_python_lab/Final%20Assignment%20part%202%203.0%20Jade%20copy.ipynb#X25sZmlsZQ%3D%3D?line=2'>3</a>\u001b[0m \u001b[39msum\u001b[39m,np\u001b[39m.\u001b[39msum(\u001b[39msum\u001b[39m)\n",
      "\u001b[0;31mKeyboardInterrupt\u001b[0m: "
     ]
    },
    {
     "ename": "KeyboardInterrupt",
     "evalue": "",
     "output_type": "error",
     "traceback": [
      "\u001b[0;31m---------------------------------------------------------------------------\u001b[0m",
      "\u001b[0;31mKeyboardInterrupt\u001b[0m                         Traceback (most recent call last)",
      "\u001b[1;32m/Users/mac/Desktop/ucla_python_lab/Final Assignment part 2 3.0 Jade copy.ipynb Cell 13\u001b[0m line \u001b[0;36m1\n\u001b[0;32m----> <a href='vscode-notebook-cell:/Users/mac/Desktop/ucla_python_lab/Final%20Assignment%20part%202%203.0%20Jade%20copy.ipynb#X25sZmlsZQ%3D%3D?line=0'>1</a>\u001b[0m \u001b[39msum\u001b[39m \u001b[39m=\u001b[39m np\u001b[39m.\u001b[39marray(shares)\u001b[39m*\u001b[39mnp\u001b[39m.\u001b[39;49marray(prices)\n\u001b[1;32m      <a href='vscode-notebook-cell:/Users/mac/Desktop/ucla_python_lab/Final%20Assignment%20part%202%203.0%20Jade%20copy.ipynb#X25sZmlsZQ%3D%3D?line=2'>3</a>\u001b[0m \u001b[39msum\u001b[39m,np\u001b[39m.\u001b[39msum(\u001b[39msum\u001b[39m)\n",
      "\u001b[0;31mKeyboardInterrupt\u001b[0m: "
     ]
    },
    {
     "ename": "KeyboardInterrupt",
     "evalue": "",
     "output_type": "error",
     "traceback": [
      "\u001b[0;31m---------------------------------------------------------------------------\u001b[0m",
      "\u001b[0;31mKeyboardInterrupt\u001b[0m                         Traceback (most recent call last)",
      "\u001b[1;32m/Users/mac/Desktop/ucla_python_lab/Final Assignment part 2 3.0 Jade copy.ipynb Cell 15\u001b[0m line \u001b[0;36m1\n\u001b[0;32m----> <a href='vscode-notebook-cell:/Users/mac/Desktop/ucla_python_lab/Final%20Assignment%20part%202%203.0%20Jade%20copy.ipynb#X25sZmlsZQ%3D%3D?line=0'>1</a>\u001b[0m \u001b[39msum\u001b[39m \u001b[39m=\u001b[39m np\u001b[39m.\u001b[39marray(shares)\u001b[39m*\u001b[39mnp\u001b[39m.\u001b[39;49marray(prices)\n\u001b[1;32m      <a href='vscode-notebook-cell:/Users/mac/Desktop/ucla_python_lab/Final%20Assignment%20part%202%203.0%20Jade%20copy.ipynb#X25sZmlsZQ%3D%3D?line=2'>3</a>\u001b[0m \u001b[39msum\u001b[39m,np\u001b[39m.\u001b[39msum(\u001b[39msum\u001b[39m)\n",
      "\u001b[0;31mKeyboardInterrupt\u001b[0m: "
     ]
    }
   ],
   "source": [
    "sum = np.array(shares)*np.array(prices)\n",
    "\n",
    "sum,np.sum(sum)"
   ]
  },
  {
   "cell_type": "markdown",
   "id": "e79e0f16",
   "metadata": {},
   "source": [
    "# Step 4 Purchase amounts"
   ]
  },
  {
   "cell_type": "code",
   "execution_count": 49,
   "id": "fd72e034",
   "metadata": {},
   "outputs": [],
   "source": [
    "def create_order(symbol, qty, side, type_, time_in_force):\n",
    "    data = {\n",
    "            \"symbol\": symbol,\n",
    "            \"qty\": qty,\n",
    "            \"side\": side,\n",
    "            \"type\": type_,\n",
    "            \"time_in_force\": time_in_force\n",
    "            }\n",
    "    r = requests.post(ORDERS_URL, json=data, headers = {'APCA-API-KEY-ID': API_KEY, \n",
    "                                                        'APCA-API-SECRET-KEY':  SECRET_KEY})\n",
    "\n",
    "    return json.loads(r.content)\n"
   ]
  },
  {
   "cell_type": "markdown",
   "id": "168e3435",
   "metadata": {},
   "source": [
    "# REBALANCE PORTFOLIO TO CHECK THAT THE WEIGHTS ARE ALIGNED EACH DAY"
   ]
  },
  {
   "cell_type": "code",
   "execution_count": 46,
   "id": "211b5bd1",
   "metadata": {},
   "outputs": [
    {
     "name": "stdout",
     "output_type": "stream",
     "text": [
      "The current number of stock SLB : 2341\n",
      "The current number of stock OXY : 2184\n",
      "The current number of stock BP : 3679\n",
      "The current number of stock WMB : 4277\n",
      "The current number of stock BKR : 3838\n",
      "The current number of stock APA : 3199\n",
      "The current number of stock HES : 905\n",
      "The difference of stock SLB : 2034\n",
      "The difference of stock OXY : 626\n",
      "The difference of stock BP : -2550\n",
      "The difference of stock WMB : 1977\n",
      "The difference of stock BKR : -1238\n",
      "The difference of stock APA : -2898\n",
      "The difference of stock HES : 275\n"
     ]
    }
   ],
   "source": [
    "# 计算当前股票数量\n",
    "current_shares = []\n",
    "for i, symbol in enumerate(tickers):\n",
    "    latest_prices = data.iloc[-1]\n",
    "    price = latest_prices[symbol]\n",
    "    qty = (accountval / len(tickers)) / price\n",
    "    qty = int(qty)  # 取整数部分\n",
    "    current_shares.append(qty)\n",
    "\n",
    "# 打印当前股票数量\n",
    "for i, symbol in enumerate(tickers):\n",
    "    print(f\"The current number of stock {symbol} : {current_shares[i]}\")\n",
    "\n",
    "# 计算最优股票数量与当前股票数量之间的差异\n",
    "difference = [shares[i] - current_shares[i] for i in range(len(tickers))]\n",
    "\n",
    "# 打印差异\n",
    "for i, symbol in enumerate(tickers):\n",
    "    print(f\"The difference of stock {symbol} : {difference[i]}\")"
   ]
  },
  {
   "cell_type": "code",
   "execution_count": 48,
   "id": "4d162a34",
   "metadata": {},
   "outputs": [],
   "source": [
    "# Execute Trades to accoujnt for the difference\n",
    "for i, symbol in enumerate(tickers):\n",
    "    qty_diff = difference[i]\n",
    "    if qty_diff < 0:\n",
    "        # 卖出股票\n",
    "        create_order(symbol, abs(qty_diff), \"sell\", \"market\", \"day\")\n",
    "# 买入操作\n",
    "for i, symbol in enumerate(tickers):\n",
    "    qty_diff = difference[i]\n",
    "    if qty_diff > 0:\n",
    "        # 买入股票\n",
    "        create_order(symbol, qty_diff, \"buy\", \"market\", \"day\")"
   ]
  },
  {
   "cell_type": "code",
   "execution_count": null,
   "id": "cd1b1728",
   "metadata": {},
   "outputs": [],
   "source": [
    "create_order('APA',0.5,\"sell\",\"market\",\"day\")\n"
   ]
  },
  {
   "cell_type": "code",
   "execution_count": 36,
   "id": "476358b0",
   "metadata": {},
   "outputs": [
    {
     "name": "stdout",
     "output_type": "stream",
     "text": [
      "The market is closed.\n",
      "The market opened at 09:30:00 and closed at 16:00:00 on 2023-09-15.\n"
     ]
    }
   ],
   "source": [
    "BASE_URL = \"https://paper-api.alpaca.markets\"\n",
    "time_url = BASE_URL+\"/v2/calendar\"\n",
    "\n",
    "api = tradeapi.REST(key_id=API_KEY,secret_key=SECRET_KEY,base_url=BASE_URL)\n",
    "\n",
    "import datetime\n",
    "\n",
    "# Check if the market is open now.\n",
    "clock = api.get_clock()\n",
    "print('The market is {}'.format('open.' if clock.is_open else 'closed.'))\n",
    "\n",
    "# Check when the market was open on Dec. 1, 2018\n",
    "date = \"2023-09-15\"\n",
    "calendar = api.get_calendar(start=date, end=date)[0]\n",
    "print('The market opened at {} and closed at {} on {}.'.format(\n",
    "    calendar.open,\n",
    "    calendar.close,\n",
    "    date\n",
    "))"
   ]
  },
  {
   "cell_type": "code",
   "execution_count": null,
   "id": "a5e29e64",
   "metadata": {},
   "outputs": [],
   "source": []
  }
 ],
 "metadata": {
  "kernelspec": {
   "display_name": "Python 3 (ipykernel)",
   "language": "python",
   "name": "python3"
  },
  "language_info": {
   "codemirror_mode": {
    "name": "ipython",
    "version": 3
   },
   "file_extension": ".py",
   "mimetype": "text/x-python",
   "name": "python",
   "nbconvert_exporter": "python",
   "pygments_lexer": "ipython3",
   "version": "3.11.5"
  }
 },
 "nbformat": 4,
 "nbformat_minor": 5
}
