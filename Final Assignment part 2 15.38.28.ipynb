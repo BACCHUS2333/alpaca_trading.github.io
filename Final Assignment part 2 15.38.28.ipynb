{
 "cells": [
  {
   "cell_type": "markdown",
   "id": "a2865037",
   "metadata": {},
   "source": [
    "# final assignment: portfolio and alpaca\n"
   ]
  },
  {
   "cell_type": "markdown",
   "id": "25fee441",
   "metadata": {},
   "source": [
    "Choose a collection of assets. Using simulation, find the weights that will lead to the minimum variance portfolio. Make a python function that will purchase the correct amount of assets on Alpaca."
   ]
  },
  {
   "cell_type": "code",
   "execution_count": 57,
   "id": "ec973dfd",
   "metadata": {},
   "outputs": [
    {
     "name": "stdout",
     "output_type": "stream",
     "text": [
      "Collecting alpaca-trade-api\n",
      "  Obtaining dependency information for alpaca-trade-api from https://files.pythonhosted.org/packages/84/5e/4912930d8f64a4a8c425b2a277849cc339a22b2046d3ecd7cbe6743f0021/alpaca_trade_api-3.0.2-py3-none-any.whl.metadata\n",
      "  Downloading alpaca_trade_api-3.0.2-py3-none-any.whl.metadata (29 kB)\n",
      "Requirement already satisfied: pandas>=0.18.1 in /Users/yuanhang/anaconda3/lib/python3.11/site-packages (from alpaca-trade-api) (1.5.3)\n",
      "Requirement already satisfied: numpy>=1.11.1 in /Users/yuanhang/anaconda3/lib/python3.11/site-packages (from alpaca-trade-api) (1.23.5)\n",
      "Requirement already satisfied: requests<3,>2 in /Users/yuanhang/anaconda3/lib/python3.11/site-packages (from alpaca-trade-api) (2.31.0)\n",
      "Requirement already satisfied: urllib3<2,>1.24 in /Users/yuanhang/anaconda3/lib/python3.11/site-packages (from alpaca-trade-api) (1.26.16)\n",
      "Requirement already satisfied: websocket-client<2,>=0.56.0 in /Users/yuanhang/anaconda3/lib/python3.11/site-packages (from alpaca-trade-api) (0.58.0)\n",
      "Collecting websockets<11,>=9.0 (from alpaca-trade-api)\n",
      "  Downloading websockets-10.4-cp311-cp311-macosx_11_0_arm64.whl (97 kB)\n",
      "\u001b[2K     \u001b[90m━━━━━━━━━━━━━━━━━━━━━━━━━━━━━━━━━━━━━━━━\u001b[0m \u001b[32m97.9/97.9 kB\u001b[0m \u001b[31m2.2 MB/s\u001b[0m eta \u001b[36m0:00:00\u001b[0ma \u001b[36m0:00:01\u001b[0m\n",
      "\u001b[?25hRequirement already satisfied: msgpack==1.0.3 in /Users/yuanhang/anaconda3/lib/python3.11/site-packages (from alpaca-trade-api) (1.0.3)\n",
      "Collecting aiohttp==3.8.2 (from alpaca-trade-api)\n",
      "  Downloading aiohttp-3.8.2-cp311-cp311-macosx_11_0_arm64.whl (332 kB)\n",
      "\u001b[2K     \u001b[90m━━━━━━━━━━━━━━━━━━━━━━━━━━━━━━━━━━━━━━━\u001b[0m \u001b[32m332.6/332.6 kB\u001b[0m \u001b[31m5.9 MB/s\u001b[0m eta \u001b[36m0:00:00\u001b[0m00:01\u001b[0m\n",
      "\u001b[?25hRequirement already satisfied: PyYAML==6.0 in /Users/yuanhang/anaconda3/lib/python3.11/site-packages (from alpaca-trade-api) (6.0)\n",
      "Collecting deprecation==2.1.0 (from alpaca-trade-api)\n",
      "  Downloading deprecation-2.1.0-py2.py3-none-any.whl (11 kB)\n",
      "Requirement already satisfied: attrs>=17.3.0 in /Users/yuanhang/anaconda3/lib/python3.11/site-packages (from aiohttp==3.8.2->alpaca-trade-api) (22.1.0)\n",
      "Requirement already satisfied: charset-normalizer<3.0,>=2.0 in /Users/yuanhang/anaconda3/lib/python3.11/site-packages (from aiohttp==3.8.2->alpaca-trade-api) (2.0.4)\n",
      "Collecting multidict<6.0,>=4.5 (from aiohttp==3.8.2->alpaca-trade-api)\n",
      "  Downloading multidict-5.2.0.tar.gz (49 kB)\n",
      "\u001b[2K     \u001b[90m━━━━━━━━━━━━━━━━━━━━━━━━━━━━━━━━━━━━━━━━\u001b[0m \u001b[32m49.0/49.0 kB\u001b[0m \u001b[31m2.0 MB/s\u001b[0m eta \u001b[36m0:00:00\u001b[0m\n",
      "\u001b[?25h  Installing build dependencies ... \u001b[?25ldone\n",
      "\u001b[?25h  Getting requirements to build wheel ... \u001b[?25ldone\n",
      "\u001b[?25h  Preparing metadata (pyproject.toml) ... \u001b[?25ldone\n",
      "\u001b[?25hRequirement already satisfied: async-timeout<5.0,>=4.0.0a3 in /Users/yuanhang/anaconda3/lib/python3.11/site-packages (from aiohttp==3.8.2->alpaca-trade-api) (4.0.2)\n",
      "Requirement already satisfied: yarl<2.0,>=1.0 in /Users/yuanhang/anaconda3/lib/python3.11/site-packages (from aiohttp==3.8.2->alpaca-trade-api) (1.8.1)\n",
      "Requirement already satisfied: frozenlist>=1.1.1 in /Users/yuanhang/anaconda3/lib/python3.11/site-packages (from aiohttp==3.8.2->alpaca-trade-api) (1.3.3)\n",
      "Requirement already satisfied: aiosignal>=1.1.2 in /Users/yuanhang/anaconda3/lib/python3.11/site-packages (from aiohttp==3.8.2->alpaca-trade-api) (1.2.0)\n",
      "Requirement already satisfied: packaging in /Users/yuanhang/anaconda3/lib/python3.11/site-packages (from deprecation==2.1.0->alpaca-trade-api) (23.0)\n",
      "Requirement already satisfied: python-dateutil>=2.8.1 in /Users/yuanhang/anaconda3/lib/python3.11/site-packages (from pandas>=0.18.1->alpaca-trade-api) (2.8.2)\n",
      "Requirement already satisfied: pytz>=2020.1 in /Users/yuanhang/anaconda3/lib/python3.11/site-packages (from pandas>=0.18.1->alpaca-trade-api) (2022.7)\n",
      "Requirement already satisfied: idna<4,>=2.5 in /Users/yuanhang/anaconda3/lib/python3.11/site-packages (from requests<3,>2->alpaca-trade-api) (3.4)\n",
      "Requirement already satisfied: certifi>=2017.4.17 in /Users/yuanhang/anaconda3/lib/python3.11/site-packages (from requests<3,>2->alpaca-trade-api) (2023.5.7)\n",
      "Requirement already satisfied: six in /Users/yuanhang/anaconda3/lib/python3.11/site-packages (from websocket-client<2,>=0.56.0->alpaca-trade-api) (1.16.0)\n",
      "\u001b[33mWARNING: The candidate selected for download or install is a yanked version: 'aiohttp' candidate (version 3.8.2 at https://files.pythonhosted.org/packages/0e/74/bdf9a1b9be07604b201dbcaa13683a2d6d780adde33c7de2d3051a95ed7a/aiohttp-3.8.2-cp311-cp311-macosx_11_0_arm64.whl (from https://pypi.org/simple/aiohttp/) (requires-python:>=3.6))\n",
      "Reason for being yanked: This version includes overly restrictive multidict upper boundary disallowing multidict v6+. The previous patch version didn't have that and this is now causing dependency resolution problems for the users who have an \"incompatible\" version pinned. This is not really necessary anymore and will be addressed in the next release v3.8.3\n",
      "\n",
      "https://github.com/aio-libs/aiohttp/pull/6950\u001b[0m\u001b[33m\n",
      "\u001b[0mDownloading alpaca_trade_api-3.0.2-py3-none-any.whl (34 kB)\n",
      "Building wheels for collected packages: multidict\n",
      "  Building wheel for multidict (pyproject.toml) ... \u001b[?25ldone\n",
      "\u001b[?25h  Created wheel for multidict: filename=multidict-5.2.0-cp311-cp311-macosx_11_0_arm64.whl size=43957 sha256=2834d57f5cf5d303531d3b3fe1ab5c06601345cfcab8d4d9f8e32974c5caaac2\n",
      "  Stored in directory: /Users/yuanhang/Library/Caches/pip/wheels/16/ad/16/d9b7ce28d4c2652ff050ef47a71c74c5ba2cb518986014ea2c\n",
      "Successfully built multidict\n",
      "Installing collected packages: websockets, multidict, deprecation, aiohttp, alpaca-trade-api\n",
      "  Attempting uninstall: multidict\n",
      "    Found existing installation: multidict 6.0.2\n",
      "    Uninstalling multidict-6.0.2:\n",
      "      Successfully uninstalled multidict-6.0.2\n",
      "  Attempting uninstall: aiohttp\n",
      "    Found existing installation: aiohttp 3.8.3\n",
      "    Uninstalling aiohttp-3.8.3:\n",
      "      Successfully uninstalled aiohttp-3.8.3\n",
      "Successfully installed aiohttp-3.8.2 alpaca-trade-api-3.0.2 deprecation-2.1.0 multidict-5.2.0 websockets-10.4\n",
      "Note: you may need to restart the kernel to use updated packages.\n"
     ]
    }
   ],
   "source": [
    "#pip install alpaca-trade-api"
   ]
  },
  {
   "cell_type": "code",
   "execution_count": 2,
   "id": "6270eb14",
   "metadata": {},
   "outputs": [],
   "source": [
    "import yfinance as yf\n",
    "import numpy as np\n",
    "\n",
    "from scipy.optimize import minimize \n",
    "#not installed yet\n",
    "\n",
    "import requests\n",
    "import json\n",
    "import alpaca_trade_api as tradeapi"
   ]
  },
  {
   "cell_type": "markdown",
   "id": "2f6e04ff",
   "metadata": {},
   "source": [
    "# Choose a collection of assets"
   ]
  },
  {
   "cell_type": "code",
   "execution_count": 3,
   "id": "8a9fb02c",
   "metadata": {},
   "outputs": [],
   "source": [
    "tickers = ['SLB',  'OXY', 'BP',  'WMB',  'BKR', 'APA', 'HES']"
   ]
  },
  {
   "cell_type": "code",
   "execution_count": 26,
   "id": "97a280a6",
   "metadata": {},
   "outputs": [
    {
     "data": {
      "text/plain": [
       "<numpy.broadcast at 0x121b96e80>"
      ]
     },
     "execution_count": 26,
     "metadata": {},
     "output_type": "execute_result"
    }
   ],
   "source": [
    "\n"
   ]
  },
  {
   "cell_type": "markdown",
   "id": "63832113",
   "metadata": {},
   "source": [
    "# Step 1 Get Optimal Weights\n"
   ]
  },
  {
   "cell_type": "code",
   "execution_count": 8,
   "id": "c6e33916",
   "metadata": {},
   "outputs": [
    {
     "name": "stdout",
     "output_type": "stream",
     "text": [
      "[*********************100%%**********************]  7 of 7 completed\n"
     ]
    },
    {
     "name": "stderr",
     "output_type": "stream",
     "text": [
      "/Library/Frameworks/Python.framework/Versions/3.11/lib/python3.11/site-packages/scipy/optimize/_hessian_update_strategy.py:182: UserWarning: delta_grad == 0.0. Check if the approximated function is linear. If the function is linear better results can be obtained by defining the Hessian as zero instead of using quasi-Newton approximations.\n",
      "  warn('delta_grad == 0.0. Check if the approximated '\n"
     ]
    },
    {
     "name": "stdout",
     "output_type": "stream",
     "text": [
      "Optimal weights： [0.18515656 0.15149588 0.19303193 0.05207661 0.15848791 0.16238412\n",
      " 0.09736699]\n",
      "minimum variance： 0.00045489873425015527\n"
     ]
    }
   ],
   "source": [
    "# 获取股票数据\n",
    "data = yf.download(tickers, start='2000-01-01', end='2023-09-07')['Adj Close']\n",
    "\n",
    "# 计算每只股票的日收益率\n",
    "returns = data.pct_change().dropna()\n",
    "\n",
    "# 计算协方差矩阵\n",
    "cov_matrix = returns.cov()\n",
    "\n",
    "# 定义目标函数，最小化方差\n",
    "def objective(weights):\n",
    "    portfolio_variance = np.dot(weights.T, np.dot(cov_matrix, weights))\n",
    "    return portfolio_variance\n",
    "\n",
    "# 设置约束条件，这里假设权重之和为1\n",
    "constraints = ({'type': 'eq', 'fun': lambda weights: np.sum(weights) - 1})\n",
    "\n",
    "# 设置初始权重猜测值\n",
    "#一开始我是用的initial_weights = np.ones(len(tickers)) / len(tickers)\n",
    "#但是后来发现权重差不多，我就改成随机的了，可以看看再讨论\n",
    "initial_weights = np.random.rand(len(tickers))\n",
    "initial_weights /= initial_weights.sum() \n",
    "\n",
    "# 最小化目标函数，使用不同的优化方法\n",
    "result = minimize(objective, initial_weights, constraints=constraints, method='trust-constr')\n",
    "\n",
    "\n",
    "# 最优权重\n",
    "optimal_weights = result.x\n",
    "\n",
    "print(\"Optimal weights：\", optimal_weights)\n",
    "print(\"minimum variance：\", result.fun)\n"
   ]
  },
  {
   "cell_type": "markdown",
   "id": "599560f5",
   "metadata": {},
   "source": [
    "# Step 2 Get Account Balance"
   ]
  },
  {
   "cell_type": "code",
   "execution_count": 9,
   "id": "13ed7953",
   "metadata": {},
   "outputs": [],
   "source": [
    "#与羊驼关联，到时候改一下自己的账户，我的注册失败了现在是老师的\n",
    "API_KEY = \"PKFYF7F8G1FOJ0MOCXZ2\"\n",
    "SECRET_KEY = \"PydaHZeM1OAfZwroinrmgyMMNDaKOFYtaKiSvAqo\"\n",
    "BASE_URL = \"https://paper-api.alpaca.markets\"\n",
    "ACCOUNT_URL = BASE_URL + \"/v2/account\"\n",
    "ORDERS_URL =  BASE_URL + \"/v2/orders\"\n",
    "\n",
    "api_key = \"PK049ACO15YA2ADAOQZZ\"\n",
    "secret_key = \"hzRNijPYEC0VGpcJDuFSXF6qAyp6GaMXOAhDF6Eb\"\n",
    "\n",
    "API_KEY = api_key\n",
    "SECRET_KEY = secret_key\n"
   ]
  },
  {
   "cell_type": "code",
   "execution_count": 10,
   "id": "442ad33b",
   "metadata": {},
   "outputs": [],
   "source": [
    "r = requests.get(ACCOUNT_URL, headers = {'APCA-API-KEY-ID': API_KEY,\n",
    "                                         'APCA-API-SECRET-KEY':  SECRET_KEY})\n",
    "info = json.loads(r.content)\n",
    "accountval = float(info[\"cash\"])"
   ]
  },
  {
   "cell_type": "markdown",
   "id": "e6b5bd36",
   "metadata": {},
   "source": [
    "# Step 3 Get number of Shares"
   ]
  },
  {
   "cell_type": "code",
   "execution_count": 42,
   "id": "9825ca08",
   "metadata": {},
   "outputs": [
    {
     "data": {
      "text/plain": [
       "[0.1429, 0.1429, 0.1429, 0.1429, 0.1429]"
      ]
     },
     "execution_count": 42,
     "metadata": {},
     "output_type": "execute_result"
    }
   ],
   "source": [
    "a = 1.0/len(tickers)"
   ]
  },
  {
   "cell_type": "code",
   "execution_count": 9,
   "id": "3dfc89be",
   "metadata": {},
   "outputs": [
    {
     "name": "stdout",
     "output_type": "stream",
     "text": [
      "The optimal number of stock SLB : 1863.0\n",
      "The optimal number of stock OXY : 714.0\n",
      "The optimal number of stock BP : 8571.0\n",
      "The optimal number of stock WMB : 996.0\n",
      "The optimal number of stock BKR : 451.0\n",
      "The optimal number of stock APA : 996.0\n",
      "The optimal number of stock HES : 2040.0\n"
     ]
    }
   ],
   "source": [
    "# 计算投资组合价值\n",
    "#一开始没写这行的时候都是负的，我感觉是不是老师账户金额设置的问题，我先写上这个了到时候关联上自己的账户可以删\n",
    "\n",
    "#set the account value\n",
    "accountval = 3e5# 假设账户总价值为1,000,000美元\n",
    "\n",
    "optimal_weights  = [1/len(tickers)]*len(tickers)\n",
    "\n",
    "# 计算每个股票的股票数量\n",
    "shares = []\n",
    "for i, symbol in enumerate(tickers):\n",
    "    weight = optimal_weights[i]\n",
    "    price = np.random.randint(1,100)\n",
    "    #price = data[symbol][-1]  # 获取最后一个交易日的股价\n",
    "    qty = (weight * accountval) / price\n",
    "    qty = qty//1  # 取整数部分\n",
    "    shares.append(qty)\n",
    "\n",
    "for i, symbol in enumerate(tickers):\n",
    "    print(f\"The optimal number of stock {symbol} : {shares[i]}\")"
   ]
  },
  {
   "cell_type": "markdown",
   "id": "ea57c6a0",
   "metadata": {},
   "source": [
    "# Step 4 Purchase amounts"
   ]
  },
  {
   "cell_type": "code",
   "execution_count": 12,
   "id": "0129bb0f",
   "metadata": {},
   "outputs": [],
   "source": [
    "def create_order(symbol, qty, side, type_, time_in_force):\n",
    "    data = {\n",
    "            \"symbol\": symbol,\n",
    "            \"qty\": qty,\n",
    "            \"side\": side,\n",
    "            \"type\": type_,\n",
    "            \"time_in_force\": time_in_force\n",
    "            }\n",
    "    r = requests.post(ORDERS_URL, json=data, headers = {'APCA-API-KEY-ID': API_KEY, \n",
    "                                                        'APCA-API-SECRET-KEY':  SECRET_KEY})\n",
    "\n",
    "    return json.loads(r.content)\n",
    "\n",
    "for i, symbol in enumerate(tickers):\n",
    "    qty = shares[i]\n",
    "\n",
    "    create_order(symbol, qty, \"buy\", \"market\", \"gtc\")"
   ]
  },
  {
   "cell_type": "markdown",
   "id": "0ad67585",
   "metadata": {},
   "source": [
    "# REBALANCE PORTFOLIO TO CHECK THAT THE WEIGHTS ARE ALIGNED EACH DAY"
   ]
  },
  {
   "cell_type": "code",
   "execution_count": 4,
   "id": "16441dcc",
   "metadata": {},
   "outputs": [
    {
     "ename": "NameError",
     "evalue": "name 'latest_prices' is not defined",
     "output_type": "error",
     "traceback": [
      "\u001b[0;31m---------------------------------------------------------------------------\u001b[0m",
      "\u001b[0;31mNameError\u001b[0m                                 Traceback (most recent call last)",
      "\u001b[1;32m/Users/mac/Desktop/ucla_python_lab/Final Assignment part 2.ipynb Cell 19\u001b[0m line \u001b[0;36m4\n\u001b[1;32m      <a href='vscode-notebook-cell:/Users/mac/Desktop/ucla_python_lab/Final%20Assignment%20part%202.ipynb#X24sZmlsZQ%3D%3D?line=1'>2</a>\u001b[0m current_shares \u001b[39m=\u001b[39m []\n\u001b[1;32m      <a href='vscode-notebook-cell:/Users/mac/Desktop/ucla_python_lab/Final%20Assignment%20part%202.ipynb#X24sZmlsZQ%3D%3D?line=2'>3</a>\u001b[0m \u001b[39mfor\u001b[39;00m i, symbol \u001b[39min\u001b[39;00m \u001b[39menumerate\u001b[39m(tickers):\n\u001b[0;32m----> <a href='vscode-notebook-cell:/Users/mac/Desktop/ucla_python_lab/Final%20Assignment%20part%202.ipynb#X24sZmlsZQ%3D%3D?line=3'>4</a>\u001b[0m     price \u001b[39m=\u001b[39m latest_prices[symbol]\n\u001b[1;32m      <a href='vscode-notebook-cell:/Users/mac/Desktop/ucla_python_lab/Final%20Assignment%20part%202.ipynb#X24sZmlsZQ%3D%3D?line=4'>5</a>\u001b[0m     qty \u001b[39m=\u001b[39m (accountval \u001b[39m/\u001b[39m \u001b[39mlen\u001b[39m(tickers)) \u001b[39m/\u001b[39m price\n\u001b[1;32m      <a href='vscode-notebook-cell:/Users/mac/Desktop/ucla_python_lab/Final%20Assignment%20part%202.ipynb#X24sZmlsZQ%3D%3D?line=5'>6</a>\u001b[0m     qty \u001b[39m=\u001b[39m \u001b[39mint\u001b[39m(qty)  \u001b[39m# 取整数部分\u001b[39;00m\n",
      "\u001b[0;31mNameError\u001b[0m: name 'latest_prices' is not defined"
     ]
    }
   ],
   "source": [
    "# 计算当前股票数量\n",
    "current_shares = []\n",
    "for i, symbol in enumerate(tickers):\n",
    "    price = latest_prices[symbol]\n",
    "    qty = (accountval / len(tickers)) / price\n",
    "    qty = int(qty)  # 取整数部分\n",
    "    current_shares.append(qty)\n",
    "\n",
    "# 打印当前股票数量\n",
    "for i, symbol in enumerate(tickers):\n",
    "    print(f\"The current number of stock {symbol} : {current_shares[i]}\")\n",
    "\n",
    "# 计算最优股票数量与当前股票数量之间的差异\n",
    "difference = [optimal_shares[i] - current_shares[i] for i in range(len(tickers))]\n",
    "\n",
    "# 打印差异\n",
    "for i, symbol in enumerate(tickers):\n",
    "    print(f\"The difference of stock {symbol} : {difference[i]}\")"
   ]
  },
  {
   "cell_type": "code",
   "execution_count": 59,
   "id": "5a30f27f",
   "metadata": {},
   "outputs": [
    {
     "ename": "APIError",
     "evalue": "insufficient buying power",
     "output_type": "error",
     "traceback": [
      "\u001b[0;31m---------------------------------------------------------------------------\u001b[0m",
      "\u001b[0;31mHTTPError\u001b[0m                                 Traceback (most recent call last)",
      "File \u001b[0;32m~/anaconda3/lib/python3.11/site-packages/alpaca_trade_api/rest.py:234\u001b[0m, in \u001b[0;36mREST._one_request\u001b[0;34m(self, method, url, opts, retry)\u001b[0m\n\u001b[1;32m    233\u001b[0m \u001b[38;5;28;01mtry\u001b[39;00m:\n\u001b[0;32m--> 234\u001b[0m     resp\u001b[38;5;241m.\u001b[39mraise_for_status()\n\u001b[1;32m    235\u001b[0m \u001b[38;5;28;01mexcept\u001b[39;00m HTTPError \u001b[38;5;28;01mas\u001b[39;00m http_error:\n\u001b[1;32m    236\u001b[0m     \u001b[38;5;66;03m# retry if we hit Rate Limit\u001b[39;00m\n",
      "File \u001b[0;32m~/anaconda3/lib/python3.11/site-packages/requests/models.py:1021\u001b[0m, in \u001b[0;36mResponse.raise_for_status\u001b[0;34m(self)\u001b[0m\n\u001b[1;32m   1020\u001b[0m \u001b[38;5;28;01mif\u001b[39;00m http_error_msg:\n\u001b[0;32m-> 1021\u001b[0m     \u001b[38;5;28;01mraise\u001b[39;00m HTTPError(http_error_msg, response\u001b[38;5;241m=\u001b[39m\u001b[38;5;28mself\u001b[39m)\n",
      "\u001b[0;31mHTTPError\u001b[0m: 403 Client Error: Forbidden for url: https://paper-api.alpaca.markets/v2/orders",
      "\nDuring handling of the above exception, another exception occurred:\n",
      "\u001b[0;31mAPIError\u001b[0m                                  Traceback (most recent call last)",
      "Cell \u001b[0;32mIn[59], line 9\u001b[0m\n\u001b[1;32m      6\u001b[0m qty \u001b[38;5;241m=\u001b[39m difference[i]\n\u001b[1;32m      7\u001b[0m \u001b[38;5;28;01mif\u001b[39;00m qty \u001b[38;5;241m>\u001b[39m \u001b[38;5;241m0\u001b[39m:\n\u001b[1;32m      8\u001b[0m     \u001b[38;5;66;03m# 需要买入股票\u001b[39;00m\n\u001b[0;32m----> 9\u001b[0m     api\u001b[38;5;241m.\u001b[39msubmit_order(\n\u001b[1;32m     10\u001b[0m         symbol\u001b[38;5;241m=\u001b[39msymbol,\n\u001b[1;32m     11\u001b[0m         qty\u001b[38;5;241m=\u001b[39mqty,\n\u001b[1;32m     12\u001b[0m         side\u001b[38;5;241m=\u001b[39m\u001b[38;5;124m'\u001b[39m\u001b[38;5;124mbuy\u001b[39m\u001b[38;5;124m'\u001b[39m,\n\u001b[1;32m     13\u001b[0m         \u001b[38;5;28mtype\u001b[39m\u001b[38;5;241m=\u001b[39m\u001b[38;5;124m'\u001b[39m\u001b[38;5;124mmarket\u001b[39m\u001b[38;5;124m'\u001b[39m,\n\u001b[1;32m     14\u001b[0m         time_in_force\u001b[38;5;241m=\u001b[39m\u001b[38;5;124m'\u001b[39m\u001b[38;5;124mgtc\u001b[39m\u001b[38;5;124m'\u001b[39m\n\u001b[1;32m     15\u001b[0m     )\n\u001b[1;32m     16\u001b[0m     \u001b[38;5;28mprint\u001b[39m(\u001b[38;5;124mf\u001b[39m\u001b[38;5;124m\"\u001b[39m\u001b[38;5;124m买入 \u001b[39m\u001b[38;5;132;01m{\u001b[39;00mqty\u001b[38;5;132;01m}\u001b[39;00m\u001b[38;5;124m 股 \u001b[39m\u001b[38;5;132;01m{\u001b[39;00msymbol\u001b[38;5;132;01m}\u001b[39;00m\u001b[38;5;124m\"\u001b[39m)\n\u001b[1;32m     17\u001b[0m \u001b[38;5;28;01melif\u001b[39;00m qty \u001b[38;5;241m<\u001b[39m \u001b[38;5;241m0\u001b[39m:\n\u001b[1;32m     18\u001b[0m     \u001b[38;5;66;03m# 需要卖出股票\u001b[39;00m\n",
      "File \u001b[0;32m~/anaconda3/lib/python3.11/site-packages/alpaca_trade_api/rest.py:429\u001b[0m, in \u001b[0;36mREST.submit_order\u001b[0;34m(self, symbol, qty, side, type, time_in_force, limit_price, stop_price, client_order_id, extended_hours, order_class, take_profit, stop_loss, trail_price, trail_percent, notional)\u001b[0m\n\u001b[1;32m    427\u001b[0m \u001b[38;5;28;01mif\u001b[39;00m trail_percent \u001b[38;5;129;01mis\u001b[39;00m \u001b[38;5;129;01mnot\u001b[39;00m \u001b[38;5;28;01mNone\u001b[39;00m:\n\u001b[1;32m    428\u001b[0m     params[\u001b[38;5;124m'\u001b[39m\u001b[38;5;124mtrail_percent\u001b[39m\u001b[38;5;124m'\u001b[39m] \u001b[38;5;241m=\u001b[39m trail_percent\n\u001b[0;32m--> 429\u001b[0m resp \u001b[38;5;241m=\u001b[39m \u001b[38;5;28mself\u001b[39m\u001b[38;5;241m.\u001b[39mpost(\u001b[38;5;124m'\u001b[39m\u001b[38;5;124m/orders\u001b[39m\u001b[38;5;124m'\u001b[39m, params)\n\u001b[1;32m    430\u001b[0m \u001b[38;5;28;01mreturn\u001b[39;00m \u001b[38;5;28mself\u001b[39m\u001b[38;5;241m.\u001b[39mresponse_wrapper(resp, Order)\n",
      "File \u001b[0;32m~/anaconda3/lib/python3.11/site-packages/alpaca_trade_api/rest.py:253\u001b[0m, in \u001b[0;36mREST.post\u001b[0;34m(self, path, data)\u001b[0m\n\u001b[1;32m    252\u001b[0m \u001b[38;5;28;01mdef\u001b[39;00m \u001b[38;5;21mpost\u001b[39m(\u001b[38;5;28mself\u001b[39m, path, data\u001b[38;5;241m=\u001b[39m\u001b[38;5;28;01mNone\u001b[39;00m):\n\u001b[0;32m--> 253\u001b[0m     \u001b[38;5;28;01mreturn\u001b[39;00m \u001b[38;5;28mself\u001b[39m\u001b[38;5;241m.\u001b[39m_request(\u001b[38;5;124m'\u001b[39m\u001b[38;5;124mPOST\u001b[39m\u001b[38;5;124m'\u001b[39m, path, data)\n",
      "File \u001b[0;32m~/anaconda3/lib/python3.11/site-packages/alpaca_trade_api/rest.py:213\u001b[0m, in \u001b[0;36mREST._request\u001b[0;34m(self, method, path, data, base_url, api_version)\u001b[0m\n\u001b[1;32m    211\u001b[0m \u001b[38;5;28;01mwhile\u001b[39;00m retry \u001b[38;5;241m>\u001b[39m\u001b[38;5;241m=\u001b[39m \u001b[38;5;241m0\u001b[39m:\n\u001b[1;32m    212\u001b[0m     \u001b[38;5;28;01mtry\u001b[39;00m:\n\u001b[0;32m--> 213\u001b[0m         \u001b[38;5;28;01mreturn\u001b[39;00m \u001b[38;5;28mself\u001b[39m\u001b[38;5;241m.\u001b[39m_one_request(method, url, opts, retry)\n\u001b[1;32m    214\u001b[0m     \u001b[38;5;28;01mexcept\u001b[39;00m RetryException:\n\u001b[1;32m    215\u001b[0m         retry_wait \u001b[38;5;241m=\u001b[39m \u001b[38;5;28mself\u001b[39m\u001b[38;5;241m.\u001b[39m_retry_wait\n",
      "File \u001b[0;32m~/anaconda3/lib/python3.11/site-packages/alpaca_trade_api/rest.py:242\u001b[0m, in \u001b[0;36mREST._one_request\u001b[0;34m(self, method, url, opts, retry)\u001b[0m\n\u001b[1;32m    240\u001b[0m     error \u001b[38;5;241m=\u001b[39m resp\u001b[38;5;241m.\u001b[39mjson()\n\u001b[1;32m    241\u001b[0m     \u001b[38;5;28;01mif\u001b[39;00m \u001b[38;5;124m'\u001b[39m\u001b[38;5;124mcode\u001b[39m\u001b[38;5;124m'\u001b[39m \u001b[38;5;129;01min\u001b[39;00m error:\n\u001b[0;32m--> 242\u001b[0m         \u001b[38;5;28;01mraise\u001b[39;00m APIError(error, http_error)\n\u001b[1;32m    243\u001b[0m \u001b[38;5;28;01melse\u001b[39;00m:\n\u001b[1;32m    244\u001b[0m     \u001b[38;5;28;01mraise\u001b[39;00m\n",
      "\u001b[0;31mAPIError\u001b[0m: insufficient buying power"
     ]
    }
   ],
   "source": [
    "# Execute Trades to accoujnt for the difference\n",
    "#显示资金不足，我觉得还是老师账户的问题\n",
    "api = tradeapi.REST(API_KEY, SECRET_KEY, BASE_URL, api_version='v2')\n",
    "account_info = api.get_account()\n",
    "account_cash = float(account_info.cash)\n",
    "\n",
    "#why purchase like that why don't \n",
    "#simply use create order function\n",
    "#to balance it: if positive, buy; negative sell.\n",
    "\n",
    "for i, symbol in enumerate(tickers):\n",
    "    qty = difference[i]\n",
    "    if qty > 0:\n",
    "        # 需要买入股票\n",
    "        api.submit_order(\n",
    "            symbol=symbol,\n",
    "            qty=qty,\n",
    "            side='buy',\n",
    "            type='market',\n",
    "            time_in_force='gtc'\n",
    "        )\n",
    "        print(f\"买入 {qty} 股 {symbol}\")\n",
    "    elif qty < 0:\n",
    "        # 需要卖出股票\n",
    "        api.submit_order(\n",
    "            symbol=symbol,\n",
    "            qty=-qty,\n",
    "            side='sell',\n",
    "            type='market',\n",
    "            time_in_force='gtc'\n",
    "        )\n",
    "        print(f\"卖出 {qty} 股 {symbol}\")\n"
   ]
  },
  {
   "cell_type": "code",
   "execution_count": null,
   "id": "90ca6128",
   "metadata": {},
   "outputs": [],
   "source": []
  }
 ],
 "metadata": {
  "kernelspec": {
   "display_name": "Python 3 (ipykernel)",
   "language": "python",
   "name": "python3"
  },
  "language_info": {
   "codemirror_mode": {
    "name": "ipython",
    "version": 3
   },
   "file_extension": ".py",
   "mimetype": "text/x-python",
   "name": "python",
   "nbconvert_exporter": "python",
   "pygments_lexer": "ipython3",
   "version": "3.11.5"
  }
 },
 "nbformat": 4,
 "nbformat_minor": 5
}
