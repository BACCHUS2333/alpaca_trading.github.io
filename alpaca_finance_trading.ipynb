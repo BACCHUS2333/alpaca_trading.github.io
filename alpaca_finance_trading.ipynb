{
 "cells": [
  {
   "cell_type": "markdown",
   "id": "df7b2172",
   "metadata": {},
   "source": [
    "Choose a collection of assets. Using simulation, find the weights that will lead to the minimum variance portfolio. Make a python function that will purchase the correct amount of assets on Alpaca."
   ]
  },
  {
   "cell_type": "code",
   "execution_count": 32,
   "id": "910c9bba",
   "metadata": {},
   "outputs": [
    {
     "name": "stdout",
     "output_type": "stream",
     "text": [
      "Requirement already satisfied: alpaca-trade-api in /Users/yuanhang/anaconda3/lib/python3.11/site-packages (3.0.2)\n",
      "Requirement already satisfied: pandas>=0.18.1 in /Users/yuanhang/anaconda3/lib/python3.11/site-packages (from alpaca-trade-api) (1.5.3)\n",
      "Requirement already satisfied: numpy>=1.11.1 in /Users/yuanhang/anaconda3/lib/python3.11/site-packages (from alpaca-trade-api) (1.23.5)\n",
      "Requirement already satisfied: requests<3,>2 in /Users/yuanhang/anaconda3/lib/python3.11/site-packages (from alpaca-trade-api) (2.31.0)\n",
      "Requirement already satisfied: urllib3<2,>1.24 in /Users/yuanhang/anaconda3/lib/python3.11/site-packages (from alpaca-trade-api) (1.26.16)\n",
      "Requirement already satisfied: websocket-client<2,>=0.56.0 in /Users/yuanhang/anaconda3/lib/python3.11/site-packages (from alpaca-trade-api) (0.58.0)\n",
      "Requirement already satisfied: websockets<11,>=9.0 in /Users/yuanhang/anaconda3/lib/python3.11/site-packages (from alpaca-trade-api) (10.4)\n",
      "Requirement already satisfied: msgpack==1.0.3 in /Users/yuanhang/anaconda3/lib/python3.11/site-packages (from alpaca-trade-api) (1.0.3)\n",
      "Requirement already satisfied: aiohttp==3.8.2 in /Users/yuanhang/anaconda3/lib/python3.11/site-packages (from alpaca-trade-api) (3.8.2)\n",
      "Requirement already satisfied: PyYAML==6.0 in /Users/yuanhang/anaconda3/lib/python3.11/site-packages (from alpaca-trade-api) (6.0)\n",
      "Requirement already satisfied: deprecation==2.1.0 in /Users/yuanhang/anaconda3/lib/python3.11/site-packages (from alpaca-trade-api) (2.1.0)\n",
      "Requirement already satisfied: attrs>=17.3.0 in /Users/yuanhang/anaconda3/lib/python3.11/site-packages (from aiohttp==3.8.2->alpaca-trade-api) (22.1.0)\n",
      "Requirement already satisfied: charset-normalizer<3.0,>=2.0 in /Users/yuanhang/anaconda3/lib/python3.11/site-packages (from aiohttp==3.8.2->alpaca-trade-api) (2.0.4)\n",
      "Requirement already satisfied: multidict<6.0,>=4.5 in /Users/yuanhang/anaconda3/lib/python3.11/site-packages (from aiohttp==3.8.2->alpaca-trade-api) (5.2.0)\n",
      "Requirement already satisfied: async-timeout<5.0,>=4.0.0a3 in /Users/yuanhang/anaconda3/lib/python3.11/site-packages (from aiohttp==3.8.2->alpaca-trade-api) (4.0.2)\n",
      "Requirement already satisfied: yarl<2.0,>=1.0 in /Users/yuanhang/anaconda3/lib/python3.11/site-packages (from aiohttp==3.8.2->alpaca-trade-api) (1.8.1)\n",
      "Requirement already satisfied: frozenlist>=1.1.1 in /Users/yuanhang/anaconda3/lib/python3.11/site-packages (from aiohttp==3.8.2->alpaca-trade-api) (1.3.3)\n",
      "Requirement already satisfied: aiosignal>=1.1.2 in /Users/yuanhang/anaconda3/lib/python3.11/site-packages (from aiohttp==3.8.2->alpaca-trade-api) (1.2.0)\n",
      "Requirement already satisfied: packaging in /Users/yuanhang/anaconda3/lib/python3.11/site-packages (from deprecation==2.1.0->alpaca-trade-api) (23.0)\n",
      "Requirement already satisfied: python-dateutil>=2.8.1 in /Users/yuanhang/anaconda3/lib/python3.11/site-packages (from pandas>=0.18.1->alpaca-trade-api) (2.8.2)\n",
      "Requirement already satisfied: pytz>=2020.1 in /Users/yuanhang/anaconda3/lib/python3.11/site-packages (from pandas>=0.18.1->alpaca-trade-api) (2022.7)\n",
      "Requirement already satisfied: idna<4,>=2.5 in /Users/yuanhang/anaconda3/lib/python3.11/site-packages (from requests<3,>2->alpaca-trade-api) (3.4)\n",
      "Requirement already satisfied: certifi>=2017.4.17 in /Users/yuanhang/anaconda3/lib/python3.11/site-packages (from requests<3,>2->alpaca-trade-api) (2023.5.7)\n",
      "Requirement already satisfied: six in /Users/yuanhang/anaconda3/lib/python3.11/site-packages (from websocket-client<2,>=0.56.0->alpaca-trade-api) (1.16.0)\n",
      "Note: you may need to restart the kernel to use updated packages.\n"
     ]
    }
   ],
   "source": [
    "pip install alpaca-trade-api"
   ]
  },
  {
   "cell_type": "code",
   "execution_count": 33,
   "id": "044bb0f7",
   "metadata": {},
   "outputs": [],
   "source": [
    "import yfinance as yf\n",
    "import numpy as np\n",
    "from scipy.optimize import minimize\n",
    "import requests\n",
    "import json\n",
    "import alpaca_trade_api as tradeapi"
   ]
  },
  {
   "cell_type": "markdown",
   "id": "a0e4b6f2",
   "metadata": {},
   "source": [
    "# Choose a collection of assets"
   ]
  },
  {
   "cell_type": "code",
   "execution_count": 34,
   "id": "2675060d",
   "metadata": {},
   "outputs": [],
   "source": [
    "tickers = ['SLB',  'OXY', 'BP',  'WMB',  'BKR', 'APA', 'HES']"
   ]
  },
  {
   "cell_type": "markdown",
   "id": "6319d630",
   "metadata": {},
   "source": [
    "# Step 1 Get Optimal Weights\n"
   ]
  },
  {
   "cell_type": "code",
   "execution_count": 35,
   "id": "647b5d1f",
   "metadata": {},
   "outputs": [
    {
     "name": "stdout",
     "output_type": "stream",
     "text": [
      "[*********************100%%**********************]  7 of 7 completed\n"
     ]
    },
    {
     "name": "stderr",
     "output_type": "stream",
     "text": [
      "/Users/yuanhang/anaconda3/lib/python3.11/site-packages/scipy/optimize/_hessian_update_strategy.py:182: UserWarning: delta_grad == 0.0. Check if the approximated function is linear. If the function is linear better results can be obtained by defining the Hessian as zero instead of using quasi-Newton approximations.\n",
      "  warn('delta_grad == 0.0. Check if the approximated '\n"
     ]
    },
    {
     "name": "stdout",
     "output_type": "stream",
     "text": [
      "Optimal weights： [0.26691407 0.18378235 0.04387213 0.20887486 0.09678252 0.01347171\n",
      " 0.18630237]\n",
      "minimum variance： 0.0005337423582006344\n"
     ]
    }
   ],
   "source": [
    "# 获取股票数据\n",
    "data = yf.download(tickers, start='2000-01-01', end='2023-09-07')['Adj Close']\n",
    "\n",
    "# 计算每只股票的日收益率\n",
    "returns = data.pct_change().dropna()\n",
    "\n",
    "# 计算协方差矩阵\n",
    "cov_matrix = returns.cov()\n",
    "\n",
    "# 定义目标函数，最小化方差\n",
    "def objective(weights):\n",
    "    portfolio_variance = np.dot(weights.T, np.dot(cov_matrix, weights))\n",
    "    return portfolio_variance\n",
    "\n",
    "# 设置约束条件，这里假设权重之和为1\n",
    "constraints = ({'type': 'eq', 'fun': lambda weights: np.sum(weights) - 1})\n",
    "\n",
    "# 设置初始权重猜测值\n",
    "#一开始我是用的initial_weights = np.ones(len(tickers)) / len(tickers)\n",
    "initial_weights = np.random.rand(len(tickers))\n",
    "initial_weights /= initial_weights.sum() \n",
    "\n",
    "# 最小化目标函数，使用不同的优化方法\n",
    "result = minimize(objective, initial_weights, constraints=constraints, method='trust-constr')\n",
    "\n",
    "\n",
    "# 最优权重\n",
    "optimal_weights = result.x\n",
    "\n",
    "print(\"Optimal weights：\", optimal_weights)\n",
    "print(\"minimum variance：\", result.fun)\n"
   ]
  },
  {
   "cell_type": "markdown",
   "id": "82232231",
   "metadata": {},
   "source": [
    "# Step 2 Get Account Balance"
   ]
  },
  {
   "cell_type": "code",
   "execution_count": 42,
   "id": "352e313b",
   "metadata": {},
   "outputs": [],
   "source": [
    "#与羊驼关联\n",
    "API_KEY = \"PKOK1AECOYSVDXHMQ7ON\"\n",
    "SECRET_KEY = \"xeUuUHj4TuLJ95NaSSMbdKRWERyPGJofYbdoioki\"\n",
    "BASE_URL = \"https://paper-api.alpaca.markets\"\n",
    "ACCOUNT_URL = BASE_URL + \"/v2/account\"\n",
    "ORDERS_URL =  BASE_URL + \"/v2/orders\""
   ]
  },
  {
   "cell_type": "code",
   "execution_count": 43,
   "id": "4a67fab7",
   "metadata": {},
   "outputs": [],
   "source": [
    "r = requests.get(ACCOUNT_URL, headers = {'APCA-API-KEY-ID': API_KEY,\n",
    "                                         'APCA-API-SECRET-KEY':  SECRET_KEY})\n",
    "info = json.loads(r.content)\n",
    "accountval = float(info[\"cash\"])"
   ]
  },
  {
   "cell_type": "markdown",
   "id": "7a32479f",
   "metadata": {},
   "source": [
    "# Step 3 Get number of Shares"
   ]
  },
  {
   "cell_type": "code",
   "execution_count": 44,
   "id": "11f8e068",
   "metadata": {},
   "outputs": [
    {
     "name": "stdout",
     "output_type": "stream",
     "text": [
      "The optimal number of stock SLB : 4375\n",
      "The optimal number of stock OXY : 2810\n",
      "The optimal number of stock BP : 1129\n",
      "The optimal number of stock WMB : 6254\n",
      "The optimal number of stock BKR : 2600\n",
      "The optimal number of stock APA : 301\n",
      "The optimal number of stock HES : 1180\n"
     ]
    }
   ],
   "source": [
    "# 计算每个股票的股票数量\n",
    "shares = []\n",
    "for i, symbol in enumerate(tickers):\n",
    "    weight = optimal_weights[i]\n",
    "    price = data[symbol][-1]  # 获取最后一个交易日的股价\n",
    "    qty = (weight * accountval) / price\n",
    "    qty = int(qty)  # 取整数部分\n",
    "    shares.append(qty)\n",
    "\n",
    "for i, symbol in enumerate(tickers):\n",
    "    print(f\"The optimal number of stock {symbol} : {shares[i]}\")"
   ]
  },
  {
   "cell_type": "markdown",
   "id": "e79e0f16",
   "metadata": {},
   "source": [
    "# Step 4 Purchase amounts"
   ]
  },
  {
   "cell_type": "code",
   "execution_count": 45,
   "id": "fd72e034",
   "metadata": {},
   "outputs": [],
   "source": [
    "def create_order(symbol, qty, side, type_, time_in_force):\n",
    "    data = {\n",
    "            \"symbol\": symbol,\n",
    "            \"qty\": qty,\n",
    "            \"side\": side,\n",
    "            \"type\": type_,\n",
    "            \"time_in_force\": time_in_force\n",
    "            }\n",
    "    r = requests.post(ORDERS_URL, json=data, headers = {'APCA-API-KEY-ID': API_KEY, \n",
    "                                                        'APCA-API-SECRET-KEY':  SECRET_KEY})\n",
    "\n",
    "    return json.loads(r.content)\n",
    "\n",
    "for i, symbol in enumerate(tickers):\n",
    "    qty = shares[i]\n",
    "\n",
    "    create_order(symbol, qty, \"buy\", \"market\", \"gtc\")"
   ]
  },
  {
   "cell_type": "markdown",
   "id": "168e3435",
   "metadata": {},
   "source": [
    "# REBALANCE PORTFOLIO TO CHECK THAT THE WEIGHTS ARE ALIGNED EACH DAY"
   ]
  },
  {
   "cell_type": "code",
   "execution_count": 46,
   "id": "211b5bd1",
   "metadata": {},
   "outputs": [
    {
     "name": "stdout",
     "output_type": "stream",
     "text": [
      "The current number of stock SLB : 2341\n",
      "The current number of stock OXY : 2184\n",
      "The current number of stock BP : 3679\n",
      "The current number of stock WMB : 4277\n",
      "The current number of stock BKR : 3838\n",
      "The current number of stock APA : 3199\n",
      "The current number of stock HES : 905\n",
      "The difference of stock SLB : 2034\n",
      "The difference of stock OXY : 626\n",
      "The difference of stock BP : -2550\n",
      "The difference of stock WMB : 1977\n",
      "The difference of stock BKR : -1238\n",
      "The difference of stock APA : -2898\n",
      "The difference of stock HES : 275\n"
     ]
    }
   ],
   "source": [
    "# 计算当前股票数量\n",
    "current_shares = []\n",
    "for i, symbol in enumerate(tickers):\n",
    "    latest_prices = data.iloc[-1]\n",
    "    price = latest_prices[symbol]\n",
    "    qty = (accountval / len(tickers)) / price\n",
    "    qty = int(qty)  # 取整数部分\n",
    "    current_shares.append(qty)\n",
    "\n",
    "# 打印当前股票数量\n",
    "for i, symbol in enumerate(tickers):\n",
    "    print(f\"The current number of stock {symbol} : {current_shares[i]}\")\n",
    "\n",
    "# 计算最优股票数量与当前股票数量之间的差异\n",
    "difference = [shares[i] - current_shares[i] for i in range(len(tickers))]\n",
    "\n",
    "# 打印差异\n",
    "for i, symbol in enumerate(tickers):\n",
    "    print(f\"The difference of stock {symbol} : {difference[i]}\")"
   ]
  },
  {
   "cell_type": "code",
   "execution_count": 48,
   "id": "4d162a34",
   "metadata": {},
   "outputs": [],
   "source": [
    "# Execute Trades to accoujnt for the difference\n",
    "for i, symbol in enumerate(tickers):\n",
    "    qty_diff = difference[i]\n",
    "    if qty_diff > 0:\n",
    "        # 买入股票\n",
    "        create_order(symbol, qty_diff, \"buy\", \"market\", \"gtc\")\n",
    "    elif qty_diff < 0:\n",
    "        # 卖出股票\n",
    "        create_order(symbol, abs(qty_diff), \"sell\", \"market\", \"gtc\")"
   ]
  },
  {
   "cell_type": "code",
   "execution_count": null,
   "id": "42dbc6f2",
   "metadata": {},
   "outputs": [],
   "source": []
  },
  {
   "cell_type": "code",
   "execution_count": null,
   "id": "7af1c3f8",
   "metadata": {},
   "outputs": [],
   "source": []
  }
 ],
 "metadata": {
  "kernelspec": {
   "display_name": "Python 3 (ipykernel)",
   "language": "python",
   "name": "python3"
  },
  "language_info": {
   "codemirror_mode": {
    "name": "ipython",
    "version": 3
   },
   "file_extension": ".py",
   "mimetype": "text/x-python",
   "name": "python",
   "nbconvert_exporter": "python",
   "pygments_lexer": "ipython3",
   "version": "3.11.5"
  }
 },
 "nbformat": 4,
 "nbformat_minor": 5
}
